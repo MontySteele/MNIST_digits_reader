{
  "nbformat": 4,
  "nbformat_minor": 0,
  "metadata": {
    "colab": {
      "name": "MNIST_NB_final.ipynb",
      "provenance": []
    },
    "kernelspec": {
      "name": "python3",
      "display_name": "Python 3"
    }
  },
  "cells": [
    {
      "cell_type": "code",
      "metadata": {
        "id": "562SR39bS2oA",
        "colab_type": "code",
        "colab": {
          "base_uri": "https://localhost:8080/",
          "height": 318
        },
        "outputId": "36e4b654-7bfa-4c77-d12b-b21e00ceb408"
      },
      "source": [
        "# Using google colab - this first step is for loading in the data from my personal Drive\n",
        "\n",
        "\n",
        "# Mount my drive\n",
        "from google.colab import drive\n",
        "drive.mount('/content/gdrive')\n",
        "root_path = 'gdrive/My Drive/Colab Notebooks'\n",
        "\n",
        "# Login with google credentials\n",
        "\n",
        "from pydrive.auth import GoogleAuth \n",
        "from pydrive.drive import GoogleDrive\n",
        "from google.colab import auth\n",
        "from oauth2client.client import GoogleCredentials\n",
        "auth.authenticate_user()\n",
        "gauth = GoogleAuth()\n",
        "gauth.credentials = GoogleCredentials.get_application_default()\n",
        "drive = GoogleDrive(gauth)\n",
        "\n",
        "# Handle errors from too many requests\n",
        "\n",
        "import logging\n",
        "logging.getLogger('googleapiclient.discovery_cache').setLevel(logging.ERROR)\n",
        "\n",
        "# The ID for my personal Drive folder is 1BVUuroPvozFxMjMIYrGOFtI4r6erSBCx\n",
        "# I am now listing the ID numbers for the files in this folder to find the data files\n",
        "\n",
        "file_list = drive.ListFile({'q': \"'1BVUuroPvozFxMjMIYrGOFtI4r6erSBCx' in parents and trashed=false\"}).GetList()\n",
        "for file1 in file_list:\n",
        "  print('title: %s, id: %s' % (file1['title'], file1['id']))\n",
        "\n",
        "# Train data ID: 1gx8YTvX_nc6y-xlEskJ9EpSHFombL9vC\n",
        "# Test data ID: 1WrCN8ohhw8b1_V1UfqPiWrN3-eIKyYnh\n",
        "\n",
        "# Now that I have the ID files, load the pre-cleaned files\n",
        "\n",
        "data_downloaded = drive.CreateFile({'id': '1Jr7eFwYlRrVqUnIkiAM3mPful4414zOs'})\n",
        "data_downloaded.GetContentFile('mnist_train.csv')\n",
        "\n",
        "data_downloaded = drive.CreateFile({'id': '1E3DOSb2GS4afHJ6UWdq-f8vhjAQ-9dO7'})\n",
        "data_downloaded.GetContentFile('mnist_test.csv')\n",
        "\n"
      ],
      "execution_count": 73,
      "outputs": [
        {
          "output_type": "stream",
          "text": [
            "Drive already mounted at /content/gdrive; to attempt to forcibly remount, call drive.mount(\"/content/gdrive\", force_remount=True).\n",
            "title: MNIST_NB_final.ipynb, id: 1aZoffxlM5L13JNX7hrc1aS1dx7i9G7uk\n",
            "title: mnist_NBGAuss.ipynb, id: 1WZUFRUH7zQR9YiIcxo8XBXfS6fMAX041\n",
            "title: mnist_cleaned_test.csv, id: 1E3DOSb2GS4afHJ6UWdq-f8vhjAQ-9dO7\n",
            "title: mnist_cleaned_train.csv, id: 1Jr7eFwYlRrVqUnIkiAM3mPful4414zOs\n",
            "title: NB_xor.ipynb, id: 1Q907VbGTX18o-3A_9_ZCOmZjxzVIPsLL\n",
            "title: Untitled, id: 1tlwHPoX5rMMYokMmvtUfRKOmeDBvAVhp\n",
            "title: mnist_test.csv, id: 1WrCN8ohhw8b1_V1UfqPiWrN3-eIKyYnh\n",
            "title: mnist_train.csv, id: 1gx8YTvX_nc6y-xlEskJ9EpSHFombL9vC\n",
            "title: Copy of NB_xor.ipynb, id: 1aCMp1O_k37FroKYvx-KOANhJgHYOqbSN\n",
            "title: NaiveBayes.ipynb, id: 1qrSFavxBqSNGq96HBV3Z_lXtP-2pBlRd\n",
            "title: NB_donnut2.ipynb, id: 1m7c5C714XvSY3ZJNt4AouXcy3wVrEH1s\n",
            "title: NB_donnut.ipynb, id: 1_kNKQvBXI4b47WpIH58ZesauYHi9Ykj-\n",
            "title: donnut.csv, id: 1IJv8sUCwIFx9z8qoXq4vijowepTq7Gu3\n",
            "title: Untitled, id: 1C3rayEvwj0K3NXh11tbjuJqnwcjygwsz\n",
            "title: The NumPy Stack.ipynb, id: 1a6xz9IAxZidib3pQ7hH-Cto9KPuH5U-D\n",
            "title: Intro to Python.ipynb, id: 1N7jp2Rmvf7GcKwDXq62ivWOfKLXs-0wv\n"
          ],
          "name": "stdout"
        }
      ]
    },
    {
      "cell_type": "code",
      "metadata": {
        "id": "uoY7ZymjURcE",
        "colab_type": "code",
        "colab": {}
      },
      "source": [
        "# Load the data into pandas\n",
        "\n",
        "import pandas as pd\n",
        "import numpy as np\n",
        "import matplotlib.pyplot as plt\n",
        "from scipy.stats import multivariate_normal as mvn\n",
        "\n",
        "import io\n",
        "trainData = pd.read_csv('mnist_train.csv',low_memory=False, lineterminator='\\n')\n",
        "\n",
        "testData = pd.read_csv('mnist_test.csv',low_memory=False, lineterminator='\\n')"
      ],
      "execution_count": 0,
      "outputs": []
    },
    {
      "cell_type": "code",
      "metadata": {
        "id": "LK-sgRapUTtO",
        "colab_type": "code",
        "colab": {
          "base_uri": "https://localhost:8080/",
          "height": 176
        },
        "outputId": "24a13c36-9a75-4221-cf3c-d4160b5b31f3"
      },
      "source": [
        "print(trainData.head(5))\n",
        "print(trainData.shape)\n",
        "#testData.head(5)\n",
        "\n",
        "# Format looks good - 28 x 28 pixel array = 784 features, plus a label column.\n"
      ],
      "execution_count": 75,
      "outputs": [
        {
          "output_type": "stream",
          "text": [
            "   X0  X1  X2  X3  X4  X5  X6  ...  X778  X779  X780  X781  X782  X783  labels\n",
            "0   0   0   0   0   0   0   0  ...     0     0     0     0     0     0       7\n",
            "1   0   0   0   0   0   0   0  ...     0     0     0     0     0     0       2\n",
            "2   0   0   0   0   0   0   0  ...     0     0     0     0     0     0       1\n",
            "3   0   0   0   0   0   0   0  ...     0     0     0     0     0     0       0\n",
            "4   0   0   0   0   0   0   0  ...     0     0     0     0     0     0       4\n",
            "\n",
            "[5 rows x 785 columns]\n",
            "(10000, 785)\n"
          ],
          "name": "stdout"
        }
      ]
    },
    {
      "cell_type": "code",
      "metadata": {
        "id": "qI4U-jMDWOOH",
        "colab_type": "code",
        "colab": {}
      },
      "source": [
        "# convert to numpy\n",
        "np_train = trainData.to_numpy()\n",
        "np_test = testData.to_numpy()"
      ],
      "execution_count": 0,
      "outputs": []
    },
    {
      "cell_type": "code",
      "metadata": {
        "id": "87UI_nmlWQSI",
        "colab_type": "code",
        "colab": {}
      },
      "source": [
        "class GaussNB():\n",
        "\n",
        "# Epsilon is a hyperparameter - results on the test set were maximized with epsilon between 1100 and 1200.\n",
        "\n",
        "  def fit(self, x, y, epsilon = float(4000)):\n",
        "\n",
        "    x = x.astype(float)\n",
        "    y = y.astype(float)\n",
        "\n",
        "    self.likelihoods = dict()\n",
        "    self.priors = dict()\n",
        "    self.K = set(y.astype(int))\n",
        "\n",
        "    # k represents a number between 0 and 9\n",
        "    for k in self.K:\n",
        "      X_k = x[y==k,:]\n",
        "\n",
        "      mu_k = X_k.mean(axis=0)\n",
        "      N_k, D = X_k.shape\n",
        "\n",
        "      self.likelihoods[k] = {\n",
        "        #Mean \n",
        "        \"Mean\" : X_k.mean(axis=0), \n",
        "        # Covariance matrix\n",
        "        \"Cov\" : (1/(N_k - 1))*np.matmul((X_k - mu_k).T, (X_k - mu_k)) + epsilon*np.identity(D) # ,80, e = 1e-3     \n",
        "        }\n",
        "\n",
        "      self.priors[k] = len(X_k) / len(x)\n",
        "\n",
        "  def predict(self, x):\n",
        "\n",
        "    x = x.astype(float)\n",
        "\n",
        "    N, D = x.shape\n",
        "    P_hat = np.zeros((N, len(self.K)))\n",
        "\n",
        "    for k, l in self.likelihoods.items():\n",
        "      #log(probability) = log(likelihood) + log(prior)\n",
        "      P_hat[:,k] = mvn.logpdf(x, l[\"Mean\"], l[\"Cov\"]) + np.log(self.priors[k])\n",
        "\n",
        "    return np.argmax(P_hat, axis=1).astype(float)\n",
        "\n",
        "def accuracy(y, y_hat):\n",
        "\n",
        "  return np.mean(y==y_hat)\n"
      ],
      "execution_count": 0,
      "outputs": []
    },
    {
      "cell_type": "code",
      "metadata": {
        "id": "TPO8dgIpXRym",
        "colab_type": "code",
        "colab": {}
      },
      "source": [
        ""
      ],
      "execution_count": 0,
      "outputs": []
    },
    {
      "cell_type": "code",
      "metadata": {
        "id": "bBfipy6OWpHv",
        "colab_type": "code",
        "colab": {
          "base_uri": "https://localhost:8080/",
          "height": 230
        },
        "outputId": "a09345b8-78f2-4fc5-c9d4-44ffa262eecd"
      },
      "source": [
        "import numpy as np\n",
        "print(np_train.shape)\n",
        "print(np_test.shape)\n",
        "\n",
        "train_X = np_train[:,:-1]\n",
        "\n",
        "# Reshape to 1D array\n",
        "train_y = np_train[:,-1].reshape(len(np_train),)\n",
        "\n",
        "# Check shape\n",
        "print(train_X.shape)\n",
        "print(train_y.shape)\n",
        "\n",
        "test_X = np_test[:,:-1]\n",
        "test_y = np_test[:,-1].reshape(len(np_test),)\n",
        "\n",
        "print(test_X.shape)\n",
        "print(test_y.shape)\n",
        "\n",
        "print(train_X[:5])\n",
        "print(train_y[:5])"
      ],
      "execution_count": 78,
      "outputs": [
        {
          "output_type": "stream",
          "text": [
            "(10000, 785)\n",
            "(60000, 785)\n",
            "(10000, 784)\n",
            "(10000,)\n",
            "(60000, 784)\n",
            "(60000,)\n",
            "[[0 0 0 ... 0 0 0]\n",
            " [0 0 0 ... 0 0 0]\n",
            " [0 0 0 ... 0 0 0]\n",
            " [0 0 0 ... 0 0 0]\n",
            " [0 0 0 ... 0 0 0]]\n",
            "[7 2 1 0 4]\n"
          ],
          "name": "stdout"
        }
      ]
    },
    {
      "cell_type": "code",
      "metadata": {
        "id": "4wYyPO2nXYJg",
        "colab_type": "code",
        "colab": {
          "base_uri": "https://localhost:8080/",
          "height": 52
        },
        "outputId": "9ea9e5de-b3d9-4483-be97-bbf777b024ad"
      },
      "source": [
        "gnb = GaussNB()\n",
        "\n",
        "gnb.fit(train_X,train_y)\n",
        "\n",
        "# Train set accuracy\n",
        "y_hat_train = gnb.predict(train_X)\n",
        "print(\"Training set accuracy: \" + str(accuracy(train_y,y_hat_train)))\n",
        "\n",
        "\n",
        "# Test set accuracy\n",
        "y_hat = gnb.predict(test_X)\n",
        "print(\"Test set accuracy: \" + str(accuracy(test_y,y_hat)))\n"
      ],
      "execution_count": 79,
      "outputs": [
        {
          "output_type": "stream",
          "text": [
            "Training set accuracy: 0.9842\n",
            "Test set accuracy: 0.95085\n"
          ],
          "name": "stdout"
        }
      ]
    },
    {
      "cell_type": "code",
      "metadata": {
        "id": "pbqimiEtYIy0",
        "colab_type": "code",
        "colab": {
          "base_uri": "https://localhost:8080/",
          "height": 513
        },
        "outputId": "52f9b719-1eec-41f5-83c5-f1f2fac59753"
      },
      "source": [
        "from sklearn.metrics import confusion_matrix\n",
        "import seaborn as sn\n",
        "\n",
        "# create a 2D array representing confusion matrix\n",
        "\n",
        "arr = pd.crosstab(test_y, y_hat)\n",
        "\n",
        "#arr = confusion_matrix(test_y,y_hat)\n",
        "\n",
        "#arr = pd.DataFrame(arr, range(10), range(10))\n",
        "\n",
        "#normalize this matrix\n",
        "arr = arr - arr.mean()\n",
        "arr = arr / arr.max()\n",
        "\n",
        "#Display as a heatmap\n",
        "\n",
        "import matplotlib.pyplot as plt     \n",
        "\n",
        "\n",
        "# labels, title and ticks\n",
        "\n",
        "fig_dims = (12,8)\n",
        "fig, ax = plt.subplots(figsize=fig_dims)\n",
        "sn.heatmap(arr, annot=True, ax=ax,)\n",
        "\n",
        "ax.set_xlabel('Predicted labels');\n",
        "ax.set_ylabel('True labels'); \n",
        "ax.set_title('Confusion Matrix'); "
      ],
      "execution_count": 80,
      "outputs": [
        {
          "output_type": "display_data",
          "data": {
            "image/png": "[encoded data removed]",
            "text/plain": [
              "<Figure size 864x576 with 2 Axes>"
            ]
          },
          "metadata": {
            "tags": []
          }
        }
      ]
    },
    {
      "cell_type": "code",
      "metadata": {
        "id": "IKwOfIC9YMVn",
        "colab_type": "code",
        "colab": {
          "base_uri": "https://localhost:8080/",
          "height": 1000
        },
        "outputId": "a4e7eeb0-e464-4655-e482-e53a485acb9b"
      },
      "source": [
        "# Produce output of a sample picture\n",
        "\n",
        "image_1 = train_X[6,:].reshape(28,28) # 7\n",
        "#print(image_1)\n",
        "\n",
        "image = np.asarray(image_1).squeeze()\n",
        "plt.imshow(image)\n",
        "plt.show()\n",
        "\n",
        "print(image_1)"
      ],
      "execution_count": 87,
      "outputs": [
        {
          "output_type": "display_data",
          "data": {
            "image/png": "[encoded data removed]",
            "text/plain": [
              "<Figure size 432x288 with 1 Axes>"
            ]
          },
          "metadata": {
            "tags": []
          }
        },
        {
          "output_type": "stream",
          "text": [
            "[[  0   0   0   0   0   0   0   0   0   0   0   0   0   0   0   0   0   0\n",
            "    0   0   0   0   0   0   0   0   0   0]\n",
            " [  0   0   0   0   0   0   0   0   0   0   0   0   0   0   0   0   0   0\n",
            "    0   0   0   0   0   0   0   0   0   0]\n",
            " [  0   0   0   0   0   0   0   0   0   0   0   0   0   0   0   0   0   0\n",
            "    0   0   0   0   0   0   0   0   0   0]\n",
            " [  0   0   0   0   0   0   0   0   0   0   0   0   0   0   0   0   0   0\n",
            "    0   0   0   0   0   0   0   0   0   0]\n",
            " [  0   0   0   0   0   0   0   0   0   0   0   0   0   0   0   0   0   0\n",
            "    0   0   0   0   0   0   0   0   0   0]\n",
            " [  0   0   0   0   0   0   0   0   0  22 192 134  32   0   0   0   0   0\n",
            "    0   0   0  15  77   5   0   0   0   0]\n",
            " [  0   0   0   0   0   0   0   0  17 235 250 169   0   0   0   0   0   0\n",
            "    0   0  15 220 241  37   0   0   0   0]\n",
            " [  0   0   0   0   0   0   0  20 189 253 147   0   0   0   0   0   0   0\n",
            "    0   0 139 253 100   0   0   0   0   0]\n",
            " [  0   0   0   0   0   0   0  70 253 253  21   0   0   0   0   0   0   0\n",
            "    0  43 254 173  13   0   0   0   0   0]\n",
            " [  0   0   0   0   0   0  22 153 253  96   0   0   0   0   0   0   0   0\n",
            "   43 231 254  92   0   0   0   0   0   0]\n",
            " [  0   0   0   0   0   0 163 255 204  11   0   0   0   0   0   0   0   0\n",
            "  104 254 158   0   0   0   0   0   0   0]\n",
            " [  0   0   0   0   0   0 162 253 178   5   0   0   0   0   0   0   9 131\n",
            "  237 253   0   0   0   0   0   0   0   0]\n",
            " [  0   0   0   0   0   0 162 253 253 191 175  70  70  70  70 133 197 253\n",
            "  253 169   0   0   0   0   0   0   0   0]\n",
            " [  0   0   0   0   0   0  51 228 253 253 254 253 253 253 253 254 253 253\n",
            "  219  35   0   0   0   0   0   0   0   0]\n",
            " [  0   0   0   0   0   0   0  17  65 137 254 232 137 137 137  44 253 253\n",
            "  161   0   0   0   0   0   0   0   0   0]\n",
            " [  0   0   0   0   0   0   0   0   0   0   0   0   0   0   0  34 254 206\n",
            "   21   0   0   0   0   0   0   0   0   0]\n",
            " [  0   0   0   0   0   0   0   0   0   0   0   0   0   0   0 160 253  69\n",
            "    0   0   0   0   0   0   0   0   0   0]\n",
            " [  0   0   0   0   0   0   0   0   0   0   0   0   0   0  85 254 241  50\n",
            "    0   0   0   0   0   0   0   0   0   0]\n",
            " [  0   0   0   0   0   0   0   0   0   0   0   0   0   0 158 254 165   0\n",
            "    0   0   0   0   0   0   0   0   0   0]\n",
            " [  0   0   0   0   0   0   0   0   0   0   0   0   0   0 231 244  50   0\n",
            "    0   0   0   0   0   0   0   0   0   0]\n",
            " [  0   0   0   0   0   0   0   0   0   0   0   0   0 104 254 232   0   0\n",
            "    0   0   0   0   0   0   0   0   0   0]\n",
            " [  0   0   0   0   0   0   0   0   0   0   0   0   0 208 253 157   0  13\n",
            "   30   0   0   0   0   0   0   0   0   0]\n",
            " [  0   0   0   0   0   0   0   0   0   0   0   0   0 208 253 154  91 204\n",
            "  161   0   0   0   0   0   0   0   0   0]\n",
            " [  0   0   0   0   0   0   0   0   0   0   0   0   0 208 253 254 253 154\n",
            "   29   0   0   0   0   0   0   0   0   0]\n",
            " [  0   0   0   0   0   0   0   0   0   0   0   0   0  61 190 128  23   6\n",
            "    0   0   0   0   0   0   0   0   0   0]\n",
            " [  0   0   0   0   0   0   0   0   0   0   0   0   0   0   0   0   0   0\n",
            "    0   0   0   0   0   0   0   0   0   0]\n",
            " [  0   0   0   0   0   0   0   0   0   0   0   0   0   0   0   0   0   0\n",
            "    0   0   0   0   0   0   0   0   0   0]\n",
            " [  0   0   0   0   0   0   0   0   0   0   0   0   0   0   0   0   0   0\n",
            "    0   0   0   0   0   0   0   0   0   0]]\n"
          ],
          "name": "stdout"
        }
      ]
    }
  ]
}